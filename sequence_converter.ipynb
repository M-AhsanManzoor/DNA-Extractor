{
 "cells": [
  {
   "cell_type": "code",
   "execution_count": 21,
   "metadata": {},
   "outputs": [],
   "source": [
    "import os\n",
    "listdir = os.listdir(\".\")\n",
    "slis = [item for item in listdir if item.lower().__contains__('.sq') == True]"
   ]
  },
  {
   "cell_type": "code",
   "execution_count": 22,
   "metadata": {},
   "outputs": [
    {
     "data": {
      "text/plain": [
       "['gbbct235.sq',\n",
       " 'gbenv19.sq',\n",
       " 'gbest109.sq',\n",
       " 'gbest118.sq',\n",
       " 'gbest162.sq',\n",
       " 'gbest167.sq',\n",
       " 'gbest172 (1).sq',\n",
       " 'gbest172.sq',\n",
       " 'gbest247.sq',\n",
       " 'gbest265.sq',\n",
       " 'gbest284.sq',\n",
       " 'gbest302.sq',\n",
       " 'gbest307.sq',\n",
       " 'gbest348.sq',\n",
       " 'gbest447 (1).sq',\n",
       " 'gbest447.sq',\n",
       " 'gbest462.sq',\n",
       " 'gbest468.sq',\n",
       " 'gbest473.sq',\n",
       " 'gbest521 (1).sq',\n",
       " 'gbest521.sq',\n",
       " 'gbest534.sq',\n",
       " 'gbest561.sq',\n",
       " 'gbest65.sq',\n",
       " 'gbest74.sq',\n",
       " 'gbest80.sq',\n",
       " 'gbest99.sq',\n",
       " 'gbgss108.sq',\n",
       " 'gbgss117 (1).sq',\n",
       " 'gbgss117.sq',\n",
       " 'gbgss122.sq',\n",
       " 'gbgss138.sq',\n",
       " 'gbgss148.sq',\n",
       " 'gbgss153.sq',\n",
       " 'gbgss176 (1).sq',\n",
       " 'gbgss176.sq',\n",
       " 'gbgss198.sq',\n",
       " 'gbgss242.sq',\n",
       " 'gbgss25.sq',\n",
       " 'gbgss257.sq',\n",
       " 'gbgss261.sq',\n",
       " 'gbgss5.sq',\n",
       " 'gbgss84.sq',\n",
       " 'gbgss99.sq',\n",
       " 'gbhtg6.sq',\n",
       " 'gbinv32.sq',\n",
       " 'gbinv33 (1).sq',\n",
       " 'gbinv33.sq',\n",
       " 'gbmam27.sq',\n",
       " 'gbmam5.sq',\n",
       " 'gbmam6.sq',\n",
       " 'gbpat141.sq',\n",
       " 'gbpat163.sq',\n",
       " 'gbpat44.sq',\n",
       " 'gbpat52.sq',\n",
       " 'gbpat58.sq',\n",
       " 'gbpln109.sq',\n",
       " 'gbpln110.sq',\n",
       " 'gbpln55.sq',\n",
       " 'gbpln57.sq',\n",
       " 'gbpln73.sq',\n",
       " 'gbpln86.sq',\n",
       " 'gbtsa74.sq',\n",
       " 'gbtsa89.sq',\n",
       " 'gbuna1.sq',\n",
       " 'gbvrt24.sq',\n",
       " 'gbvrt25.sq']"
      ]
     },
     "execution_count": 22,
     "metadata": {},
     "output_type": "execute_result"
    }
   ],
   "source": [
    "slis"
   ]
  },
  {
   "cell_type": "code",
   "execution_count": null,
   "metadata": {},
   "outputs": [],
   "source": [
    "for fname in slis:\n",
    "    with open(fname, \"r\") as fin: \n",
    "        data = fin.readlines()[0]\n",
    "    with open(fname[:-3] + \".fasta\", \"w\") as fout:\n",
    "        fout.write(\">\"+fname[:-3] +\"\\t\" + str(len(data)) + \"\\n\")\n",
    "        i = 0\n",
    "        for ch in data:\n",
    "            if i == 70:\n",
    "                i = 0\n",
    "                fout.write(\"\\n\")\n",
    "            fout.write(ch)\n",
    "            i= i+1\n",
    "            "
   ]
  }
 ],
 "metadata": {
  "kernelspec": {
   "display_name": "Python 3",
   "language": "python",
   "name": "python3"
  },
  "language_info": {
   "codemirror_mode": {
    "name": "ipython",
    "version": 3
   },
   "file_extension": ".py",
   "mimetype": "text/x-python",
   "name": "python",
   "nbconvert_exporter": "python",
   "pygments_lexer": "ipython3",
   "version": "3.8.3"
  }
 },
 "nbformat": 4,
 "nbformat_minor": 2
}
